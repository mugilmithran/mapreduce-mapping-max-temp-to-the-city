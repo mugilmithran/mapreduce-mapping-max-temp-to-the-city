{
 "cells": [
  {
   "cell_type": "code",
   "execution_count": 18,
   "id": "7cb020fa-3d6d-4974-956a-7e8f83a60923",
   "metadata": {},
   "outputs": [],
   "source": [
    "import csv\n",
    "from collections import defaultdict"
   ]
  },
  {
   "cell_type": "code",
   "execution_count": 19,
   "id": "5d6375f9-ecc1-4ed7-9ce4-fea106bc636a",
   "metadata": {},
   "outputs": [],
   "source": [
    "def mapper(file_name):\n",
    "    city_temps = defaultdict(list)\n",
    "    \n",
    "    with open(file_name, mode='r') as file:\n",
    "        reader = csv.DictReader(file)\n",
    "        for row in reader:\n",
    "            city = row['City']\n",
    "            temp = int(row['Temperature'])\n",
    "            city_temps[city].append(temp)\n",
    "    \n",
    "    return city_temps"
   ]
  },
  {
   "cell_type": "code",
   "execution_count": 20,
   "id": "879e29dd-3599-469a-9fb8-2fd59c2c5883",
   "metadata": {},
   "outputs": [],
   "source": [
    "def reducer(mapped_data):\n",
    "    reduced_data = {}\n",
    "    \n",
    "    for city, temps in mapped_data.items():\n",
    "        max_temp = max(temps)\n",
    "        reduced_data[city] = max_temp\n",
    "    \n",
    "    return reduced_data"
   ]
  },
  {
   "cell_type": "code",
   "execution_count": 21,
   "id": "a69eed66-7e2d-41e5-91cf-1b09660ba466",
   "metadata": {},
   "outputs": [],
   "source": [
    "def mapreduce(file_names):\n",
    "    all_mapped_data = defaultdict(list)\n",
    "    \n",
    "    # Map step: Process each file\n",
    "    for file_name in file_names:\n",
    "        mapped_data = mapper(file_name)\n",
    "        for city, temps in mapped_data.items():\n",
    "            all_mapped_data[city].extend(temps)\n",
    "    \n",
    "    # Reduce step: Reduce the mapped data\n",
    "    result = reducer(all_mapped_data)\n",
    "    return result"
   ]
  },
  {
   "cell_type": "code",
   "execution_count": 22,
   "id": "5f896ae9-dd03-4cbe-9e31-48d966342706",
   "metadata": {},
   "outputs": [],
   "source": [
    "def write_to_csv(result, output_file):\n",
    "    with open(output_file, mode='w', newline='') as file:\n",
    "        writer = csv.writer(file)\n",
    "        writer.writerow(['City', 'Max Temperature'])\n",
    "        for city, temp in result.items():\n",
    "            writer.writerow([city, temp])"
   ]
  },
  {
   "cell_type": "code",
   "execution_count": 23,
   "id": "31b67dbe-101d-459f-9f07-ffeb53511042",
   "metadata": {},
   "outputs": [
    {
     "name": "stdout",
     "output_type": "stream",
     "text": [
      "Toronto: 40°C\n",
      "Vancouver: 30°C\n",
      "Montreal: 21°C\n",
      "Ottawa: 43°C\n",
      "Oshawa: 41°C\n",
      "Halifax: 50°C\n",
      "Winnipeg: 38°C\n",
      "Edmonton: 66°C\n",
      "Calgary: 50°C\n",
      "Results written to max_temperatures.csv\n"
     ]
    }
   ],
   "source": [
    "file_names = ['file1.csv', 'file2.csv', 'file3.csv', 'file4.csv', 'file5.csv']  # List of your CSV files\n",
    "output_file = 'max_temperatures.csv'  # Output CSV file name\n",
    "    \n",
    "result = mapreduce(file_names)\n",
    "    \n",
    "# Output the results to the console\n",
    "for city, temp in result.items():\n",
    "    print(f'{city}: {temp}°C')\n",
    "    \n",
    "# Write the results to the new CSV file\n",
    "write_to_csv(result, output_file)\n",
    "print(f\"Results written to {output_file}\")\n"
   ]
  },
  {
   "cell_type": "code",
   "execution_count": null,
   "id": "92ac60ec-8d8b-4ac2-8fe7-4cac7253ec5e",
   "metadata": {},
   "outputs": [],
   "source": []
  },
  {
   "cell_type": "code",
   "execution_count": null,
   "id": "cf744171-9ec0-496f-a429-0ce9a890c86f",
   "metadata": {},
   "outputs": [],
   "source": []
  }
 ],
 "metadata": {
  "kernelspec": {
   "display_name": "Python 3 (ipykernel)",
   "language": "python",
   "name": "python3"
  },
  "language_info": {
   "codemirror_mode": {
    "name": "ipython",
    "version": 3
   },
   "file_extension": ".py",
   "mimetype": "text/x-python",
   "name": "python",
   "nbconvert_exporter": "python",
   "pygments_lexer": "ipython3",
   "version": "3.12.3"
  }
 },
 "nbformat": 4,
 "nbformat_minor": 5
}
